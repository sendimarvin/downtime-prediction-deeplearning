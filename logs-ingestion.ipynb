{
 "cells": [
  {
   "cell_type": "code",
   "execution_count": 40,
   "id": "63deaf17",
   "metadata": {},
   "outputs": [
    {
     "name": "stdout",
     "output_type": "stream",
     "text": [
      "{'timestamp': 'Jun  6 07:35:12', 'server': 'interswitch-virtual-machine', 'client_ip': '41.210.186.148', 'client_port': '51732', 'datetime': '06/Jun/2023:07:35:12.147', 'frontend': 'www-https', 'backend': 'interswitchstore_backend', 'backendservername': 'interswitchstore_webserver', 'timing': '371/0/1/37/409', 'http_status': '200', 'bytes_read': '217', 'act_conn': '452', 'fe_conn': '452', 'be_conn': '0', 'srv_conn': '1', 'retries': '0', 'request_line': 'POST /interswitchstore/device/remoteConfigs HTTP/1.1'}\n",
      "{'timestamp': 'Jun  6 07:35:12', 'server': 'interswitch-virtual-machine', 'client_ip': '196.13.203.201', 'client_port': '59225', 'datetime': '06/Jun/2023:07:35:12.378', 'frontend': 'www-https', 'backend': 'api_backend', 'backendservername': 'api_webserver2', 'timing': '3/0/1/187/191', 'http_status': '200', 'bytes_read': '314', 'act_conn': '452', 'fe_conn': '452', 'be_conn': '0', 'srv_conn': '1', 'retries': '0', 'request_line': 'POST /api/v1A/svapayments/validateCustomer HTTP/1.1'}\n",
      "{'timestamp': 'Jun  6 07:35:12', 'server': 'interswitch-virtual-machine', 'client_ip': '197.239.10.226', 'client_port': '1517', 'datetime': '06/Jun/2023:07:35:12.612', 'frontend': 'www-https', 'backend': 'interswitchstore_backend', 'backendservername': 'interswitchstore_webserver', 'timing': '121/0/1/51/173', 'http_status': '500', 'bytes_read': '2410', 'act_conn': '452', 'fe_conn': '452', 'be_conn': '0', 'srv_conn': '0', 'retries': '0', 'request_line': 'POST /interswitchstore/device/geolocationstatus HTTP/1.1'}\n",
      "{'timestamp': 'Jun  6 07:35:12', 'server': 'interswitch-virtual-machine', 'client_ip': '196.13.203.201', 'client_port': '59225', 'datetime': '06/Jun/2023:07:35:12.569', 'frontend': 'www-https', 'backend': 'api_backend', 'backendservername': 'api_webserver1', 'timing': '4/0/0/242/246', 'http_status': '200', 'bytes_read': '314', 'act_conn': '452', 'fe_conn': '452', 'be_conn': '0', 'srv_conn': '1', 'retries': '0', 'request_line': 'POST /api/v1A/svapayments/validateCustomer HTTP/1.1'}\n",
      "{'timestamp': 'Jun  6 07:35:13', 'server': 'interswitch-virtual-machine', 'client_ip': '196.13.203.201', 'client_port': '59225', 'datetime': '06/Jun/2023:07:35:12.814', 'frontend': 'www-https', 'backend': 'api_backend', 'backendservername': 'api_webserver2', 'timing': '29/0/1/207/237', 'http_status': '200', 'bytes_read': '314', 'act_conn': '452', 'fe_conn': '452', 'be_conn': '0', 'srv_conn': '1', 'retries': '0', 'request_line': 'POST /api/v1A/svapayments/validateCustomer HTTP/1.1'}\n",
      "{'timestamp': 'Jun  6 07:35:13', 'server': 'interswitch-virtual-machine', 'client_ip': '196.13.203.201', 'client_port': '59225', 'datetime': '06/Jun/2023:07:35:13.052', 'frontend': 'www-https', 'backend': 'api_backend', 'backendservername': 'api_webserver1', 'timing': '4/0/0/223/227', 'http_status': '200', 'bytes_read': '314', 'act_conn': '452', 'fe_conn': '452', 'be_conn': '0', 'srv_conn': '1', 'retries': '0', 'request_line': 'POST /api/v1A/svapayments/validateCustomer HTTP/1.1'}\n",
      "{'timestamp': 'Jun  6 07:35:13', 'server': 'interswitch-virtual-machine', 'client_ip': '196.13.203.201', 'client_port': '59225', 'datetime': '06/Jun/2023:07:35:13.280', 'frontend': 'www-https', 'backend': 'api_backend', 'backendservername': 'api_webserver2', 'timing': '20/0/1/218/239', 'http_status': '200', 'bytes_read': '314', 'act_conn': '452', 'fe_conn': '452', 'be_conn': '0', 'srv_conn': '1', 'retries': '0', 'request_line': 'POST /api/v1A/svapayments/validateCustomer HTTP/1.1'}\n"
     ]
    }
   ],
   "source": [
    "import re\n",
    "\n",
    "log_entries = []\n",
    "\n",
    "# Read the log file\n",
    "with open('data/haproxytmp.log', 'r') as file:\n",
    "    log_entries = file.readlines()\n",
    "\n",
    "# Define regular expression for field extraction\n",
    "regex_pattern = r'^(?P<timestamp>\\w+\\s+\\d+\\s\\d+:\\d+:\\d+)\\s+(?P<server>\\S+)\\s+haproxy\\[\\d+\\]:\\s(?P<client_ip>[\\d.:]+):(?P<client_port>\\d+)\\s+\\[(?P<datetime>[^\\]]+)\\]\\s+(?P<frontend>\\S+)~\\s+(?P<backend>[^\\s/]+)/(?P<backendservername>[^\\s]+)\\s+(?P<timing>[^\\s]+)\\s+(?P<http_status>\\d+)\\s+(?P<bytes_read>\\d+)\\s+.*\\s+(?P<act_conn>\\d+)/(?P<fe_conn>\\d+)/(?P<be_conn>\\d+)/(?P<srv_conn>\\d+)/(?P<retries>\\d+)\\s+.*\\s+\"(?P<request_line>[^\"]+)\"'\n",
    "\n",
    "fields = []\n",
    "\n",
    "# Iterate through log entries\n",
    "for log_entry in log_entries:\n",
    "    # Extract fields using regular expression\n",
    "    match = re.match(regex_pattern, log_entry)\n",
    "    if match:\n",
    "        fields.append({\n",
    "            'timestamp': match.group('timestamp'),\n",
    "            'server': match.group('server'),\n",
    "            'client_ip': match.group('client_ip'),\n",
    "            'client_port': match.group('client_port'),\n",
    "            'datetime': match.group('datetime'),\n",
    "            'frontend': match.group('frontend'),\n",
    "            'backend': match.group('backend'),\n",
    "            'backendservername': match.group('backendservername'),\n",
    "            'timing': match.group('timing'),\n",
    "            'http_status': match.group('http_status'),\n",
    "            'bytes_read': match.group('bytes_read'),\n",
    "            'request_cookie': '-',\n",
    "            'response_cookie': '-',\n",
    "            'termination_state': '-',\n",
    "            'act_conn': match.group('act_conn'),\n",
    "            'fe_conn': match.group('fe_conn'),\n",
    "            'be_conn': match.group('be_conn'),\n",
    "            'srv_conn': match.group('srv_conn'),\n",
    "            'act_sess': '0',\n",
    "            'fe_sess': '0',\n",
    "            'be_sess': '0',\n",
    "            'srv_sess': '0',\n",
    "            'retries': match.group('retries'),\n",
    "            'request_line': match.group('request_line')\n",
    "        })\n",
    "\n",
    "# Print extracted fields\n",
    "for field in fields:\n",
    "    print(field)\n"
   ]
  },
  {
   "cell_type": "code",
   "execution_count": null,
   "id": "c786fd82",
   "metadata": {},
   "outputs": [],
   "source": []
  },
  {
   "cell_type": "code",
   "execution_count": null,
   "id": "ba8b1fee",
   "metadata": {},
   "outputs": [],
   "source": []
  }
 ],
 "metadata": {
  "kernelspec": {
   "display_name": "Python 3 (ipykernel)",
   "language": "python",
   "name": "python3"
  },
  "language_info": {
   "codemirror_mode": {
    "name": "ipython",
    "version": 3
   },
   "file_extension": ".py",
   "mimetype": "text/x-python",
   "name": "python",
   "nbconvert_exporter": "python",
   "pygments_lexer": "ipython3",
   "version": "3.8.0"
  }
 },
 "nbformat": 4,
 "nbformat_minor": 5
}
