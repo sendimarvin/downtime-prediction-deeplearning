{
 "cells": [
  {
   "cell_type": "code",
   "execution_count": 14,
   "id": "63deaf17",
   "metadata": {},
   "outputs": [
    {
     "name": "stdout",
     "output_type": "stream",
     "text": [
      "{'timestamp': 'Jun  6 07:35:12', 'server': 'interswitch-virtual-machine', 'client_ip': '41.210.186.148', 'client_port': '51732', 'datetime': '06/Jun/2023:07:35:12.147', 'frontend': 'www-https', 'backend': 'interswitchstore_backend'}\n",
      "{'timestamp': 'Jun  6 07:35:12', 'server': 'interswitch-virtual-machine', 'client_ip': '196.13.203.201', 'client_port': '59225', 'datetime': '06/Jun/2023:07:35:12.378', 'frontend': 'www-https', 'backend': 'api_backend'}\n",
      "{'timestamp': 'Jun  6 07:35:12', 'server': 'interswitch-virtual-machine', 'client_ip': '197.239.10.226', 'client_port': '1517', 'datetime': '06/Jun/2023:07:35:12.612', 'frontend': 'www-https', 'backend': 'interswitchstore_backend'}\n",
      "{'timestamp': 'Jun  6 07:35:12', 'server': 'interswitch-virtual-machine', 'client_ip': '196.13.203.201', 'client_port': '59225', 'datetime': '06/Jun/2023:07:35:12.569', 'frontend': 'www-https', 'backend': 'api_backend'}\n",
      "{'timestamp': 'Jun  6 07:35:13', 'server': 'interswitch-virtual-machine', 'client_ip': '196.13.203.201', 'client_port': '59225', 'datetime': '06/Jun/2023:07:35:12.814', 'frontend': 'www-https', 'backend': 'api_backend'}\n",
      "{'timestamp': 'Jun  6 07:35:13', 'server': 'interswitch-virtual-machine', 'client_ip': '196.13.203.201', 'client_port': '59225', 'datetime': '06/Jun/2023:07:35:13.052', 'frontend': 'www-https', 'backend': 'api_backend'}\n",
      "{'timestamp': 'Jun  6 07:35:13', 'server': 'interswitch-virtual-machine', 'client_ip': '196.13.203.201', 'client_port': '59225', 'datetime': '06/Jun/2023:07:35:13.280', 'frontend': 'www-https', 'backend': 'api_backend'}\n"
     ]
    }
   ],
   "source": [
    "import re\n",
    "\n",
    "log_entries = []\n",
    "\n",
    "# Read the log file\n",
    "with open('data/haproxytmp.log', 'r') as file:\n",
    "    log_entries = file.readlines()\n",
    "\n",
    "# Define regular expression for field extraction\n",
    "regex_pattern = r'^(?P<timestamp>\\w+\\s+\\d+\\s\\d+:\\d+:\\d+)\\s+(?P<server>\\S+)\\s+haproxy\\[\\d+\\]:\\s(?P<client_ip>[\\d.:]+):(?P<client_port>\\d+)\\s+\\[(?P<datetime>[^\\]]+)\\]\\s+(?P<frontend>\\S+)~\\s+(?P<backend>[^\\s/]+)/(?P<server_name>[^\\s]+)'\n",
    "\n",
    "fields = []\n",
    "\n",
    "# Iterate through log entries\n",
    "for log_entry in log_entries:\n",
    "    # Extract fields using regular expression\n",
    "    match = re.match(regex_pattern, log_entry)\n",
    "    if match:\n",
    "        fields.append({\n",
    "            'timestamp': match.group('timestamp'),\n",
    "            'server': match.group('server'),\n",
    "            'client_ip': match.group('client_ip'),\n",
    "            'client_port': match.group('client_port'),\n",
    "            'datetime': match.group('datetime'),\n",
    "            'frontend': match.group('frontend'),\n",
    "            'backend': match.group('backend')\n",
    "        })\n",
    "\n",
    "# Print extracted fields\n",
    "for field in fields:\n",
    "    print(field)\n"
   ]
  },
  {
   "cell_type": "code",
   "execution_count": null,
   "id": "c786fd82",
   "metadata": {},
   "outputs": [],
   "source": []
  },
  {
   "cell_type": "code",
   "execution_count": null,
   "id": "ba8b1fee",
   "metadata": {},
   "outputs": [],
   "source": []
  }
 ],
 "metadata": {
  "kernelspec": {
   "display_name": "Python 3 (ipykernel)",
   "language": "python",
   "name": "python3"
  },
  "language_info": {
   "codemirror_mode": {
    "name": "ipython",
    "version": 3
   },
   "file_extension": ".py",
   "mimetype": "text/x-python",
   "name": "python",
   "nbconvert_exporter": "python",
   "pygments_lexer": "ipython3",
   "version": "3.8.0"
  }
 },
 "nbformat": 4,
 "nbformat_minor": 5
}
