{
 "cells": [
  {
   "cell_type": "code",
   "execution_count": 70,
   "id": "63deaf17",
   "metadata": {
    "scrolled": false
   },
   "outputs": [
    {
     "name": "stdout",
     "output_type": "stream",
     "text": [
      "{'timestamp': datetime.datetime(2023, 6, 6, 7, 35, 12), 'server': 'interswitch-virtual-machine', 'client_ip': '41.210.186.148', 'client_port': 51732, 'datetime': 1686026112.147, 'frontend': 'www-https', 'backend': 'interswitchstore_backend', 'backendservername': 'interswitchstore_webserver', 'timing': '371/0/1/37/409', 'http_status': 200, 'bytes_read': 217, 'request_cookie': '-', 'response_cookie': '-', 'termination_state': '-', 'act_conn': 452, 'fe_conn': 452, 'be_conn': 0, 'srv_conn': 1, 'act_sess': 0, 'fe_sess': 0, 'be_sess': 0, 'srv_sess': 0, 'retries': 0, 'request_line': 'POST /interswitchstore/device/remoteConfigs HTTP/1.1'}\n"
     ]
    }
   ],
   "source": [
    "import re\n",
    "from datetime import datetime\n",
    "import pandas as pd\n",
    "\n",
    "log_entries = []\n",
    "\n",
    "# Read the log file\n",
    "with open('data/haproxy.log', 'r') as file:\n",
    "    log_entries = file.readlines()\n",
    "\n",
    "# Define regular expression for field extraction\n",
    "regex_pattern = r'^(?P<timestamp>\\w+\\s+\\d+\\s\\d+:\\d+:\\d+)\\s+(?P<server>\\S+)\\s+haproxy\\[\\d+\\]:\\s(?P<client_ip>[\\d.:]+):(?P<client_port>\\d+)\\s+\\[(?P<datetime>[^\\]]+)\\]\\s+(?P<frontend>\\S+)~\\s+(?P<backend>[^\\s/]+)/(?P<backendservername>[^\\s]+)\\s+(?P<timing>[^\\s]+)\\s+(?P<http_status>\\d+)\\s+(?P<bytes_read>\\d+)\\s+.*\\s+(?P<act_conn>\\d+)/(?P<fe_conn>\\d+)/(?P<be_conn>\\d+)/(?P<srv_conn>\\d+)/(?P<retries>\\d+)\\s+.*\\s+\"(?P<request_line>[^\"]+)\"'\n",
    "\n",
    "fields = []\n",
    "\n",
    "# Iterate through log entries\n",
    "for log_entry in log_entries:\n",
    "    # Extract fields using regular expression\n",
    "    match = re.match(regex_pattern, log_entry)\n",
    "    if match:\n",
    "        \n",
    "         # Convert timestamp to datetime value\n",
    "        timestamp_str = match.group('timestamp')\n",
    "        timestamp = datetime.strptime(timestamp_str, '%b %d %H:%M:%S')\n",
    "        # Set the current year as the placeholder\n",
    "        current_year = datetime.now().year\n",
    "        timestamp = timestamp.replace(year=current_year)\n",
    "        \n",
    "        \n",
    "         # Convert datetime to datetime value\n",
    "        datetime_str =  match.group('datetime')\n",
    "        datetime_format = '%d/%b/%Y:%H:%M:%S.%f'\n",
    "        mdatetime = datetime.strptime(datetime_str, datetime_format).timestamp()\n",
    "        \n",
    "        fields.append({\n",
    "            'timestamp': timestamp,\n",
    "            'server': match.group('server'),\n",
    "            'client_ip': match.group('client_ip'),\n",
    "            'client_port': int(match.group('client_port')),\n",
    "            'datetime': mdatetime,\n",
    "            'frontend': match.group('frontend'),\n",
    "            'backend': match.group('backend'),\n",
    "            'backendservername': match.group('backendservername'),\n",
    "            'timing': match.group('timing'),\n",
    "            'http_status': int(match.group('http_status')),\n",
    "            'bytes_read': int(match.group('bytes_read')),\n",
    "            'request_cookie': '-',\n",
    "            'response_cookie': '-',\n",
    "            'termination_state': '-',\n",
    "            'act_conn': int(match.group('act_conn')),\n",
    "            'fe_conn': int(match.group('fe_conn')),\n",
    "            'be_conn': int(match.group('be_conn')),\n",
    "            'srv_conn': int(match.group('srv_conn')),\n",
    "            'act_sess': 0,\n",
    "            'fe_sess': 0,\n",
    "            'be_sess': 0,\n",
    "            'srv_sess': 0,\n",
    "            'retries': int(match.group('retries')),\n",
    "            'request_line': match.group('request_line')\n",
    "        })\n",
    "\n",
    "# Print the first n extracted fields\n",
    "for field in fields[:1]:\n",
    "    print(field)\n",
    "    \n",
    "# Convert the list of dictionaries to a pandas DataFrame\n",
    "df = pd.DataFrame(fields)"
   ]
  },
  {
   "cell_type": "code",
   "execution_count": 71,
   "id": "7da972d2",
   "metadata": {},
   "outputs": [
    {
     "name": "stdout",
     "output_type": "stream",
     "text": [
      "Request Counts:\n",
      "request_line\n",
      "POST /api/v1A/svapayments/validateCustomer HTTP/1.1                                                                            572551\n",
      "POST /interswitchstore/device/trackupdate HTTP/1.1                                                                             140157\n",
      "POST /interswitchstore/device/geolocationstatus HTTP/1.1                                                                       130513\n",
      "POST /api/v1A/svapayments/sendAdviceRequest HTTP/1.1                                                                            92300\n",
      "POST /api/v2/quickteller/agent/agentLogin HTTP/1.1                                                                              89075\n",
      "                                                                                                                                ...  \n",
      "GET /api/v2/quickteller/agent/appNotifications/23028645 HTTP/1.1                                                                    1\n",
      "GET /api/v1A/svapayments/transactions/ISWM16860450556672537 HTTP/1.1                                                                1\n",
      "GET /instantcard/instantcardissuance.htm?act=issuecard&i=0&b=a&c=a&d=0&ofst=1&maxR=100&sStr=&_=1686043911006 HTTP/1.1               1\n",
      "GET /instantcard/instantcardissuance.htm?act=pendingcardfees&i=0&b=a&c=a&d=0&ofst=1&maxR=100&sStr=&_=1686043911007 HTTP/1.1         1\n",
      "GET /api/v2/quickteller/agent/accountBalance/3IS19448 HTTP/1.1                                                                      1\n",
      "Name: count, Length: 40167, dtype: int64\n",
      "\n",
      "Response Counts:\n",
      "http_status\n",
      "200    2020704\n",
      "500     156591\n",
      "503     141269\n",
      "502      32749\n",
      "504      18655\n",
      "302       2201\n",
      "404       1750\n",
      "405       1298\n",
      "304        582\n",
      "400        418\n",
      "206        394\n",
      "401         43\n",
      "204          2\n",
      "301          1\n",
      "Name: count, dtype: int64\n"
     ]
    }
   ],
   "source": [
    "\n",
    "# Perform analysis on the DataFrame\n",
    "\n",
    "# Request Analysis\n",
    "request_counts = df['request_line'].value_counts()\n",
    "print(\"Request Counts:\")\n",
    "print(request_counts)\n",
    "\n",
    "\n",
    "# Response Analysis\n",
    "response_counts = df['http_status'].value_counts()\n",
    "print(\"\\nResponse Counts:\")\n",
    "print(response_counts)"
   ]
  },
  {
   "cell_type": "code",
   "execution_count": 65,
   "id": "c786fd82",
   "metadata": {
    "scrolled": true
   },
   "outputs": [
    {
     "name": "stdout",
     "output_type": "stream",
     "text": [
      "\n",
      "Timing Summary:\n",
      "         act_time  fe_time   be_time    srv_time  total_time\n",
      "count    7.000000      7.0  7.000000    7.000000    7.000000\n",
      "mean    78.857143      0.0  0.714286  166.428571  246.000000\n",
      "std    135.422091      0.0  0.487950   85.357790   76.826645\n",
      "min      3.000000      0.0  0.000000   37.000000  173.000000\n",
      "25%      4.000000      0.0  0.500000  119.000000  209.000000\n",
      "50%     20.000000      0.0  1.000000  207.000000  237.000000\n",
      "75%     75.000000      0.0  1.000000  220.500000  242.500000\n",
      "max    371.000000      0.0  1.000000  242.000000  409.000000\n"
     ]
    }
   ],
   "source": [
    "# Timing Analysis\n",
    "timing_columns = ['act_time', 'fe_time', 'be_time', 'srv_time', 'total_time']\n",
    "df[timing_columns] = df['timing'].str.split('/', expand=True).astype(int)\n",
    "timing_summary = df[timing_columns].describe()\n",
    "print(\"\\nTiming Summary:\")\n",
    "print(timing_summary)"
   ]
  },
  {
   "cell_type": "code",
   "execution_count": 66,
   "id": "ba8b1fee",
   "metadata": {},
   "outputs": [
    {
     "name": "stdout",
     "output_type": "stream",
     "text": [
      "\n",
      "Connection Summary:\n",
      "       act_conn  fe_conn  be_conn  srv_conn\n",
      "count       7.0      7.0      7.0  7.000000\n",
      "mean      452.0    452.0      0.0  0.857143\n",
      "std         0.0      0.0      0.0  0.377964\n",
      "min       452.0    452.0      0.0  0.000000\n",
      "25%       452.0    452.0      0.0  1.000000\n",
      "50%       452.0    452.0      0.0  1.000000\n",
      "75%       452.0    452.0      0.0  1.000000\n",
      "max       452.0    452.0      0.0  1.000000\n"
     ]
    }
   ],
   "source": [
    "# Connection Analysis\n",
    "connection_columns = ['act_conn', 'fe_conn', 'be_conn', 'srv_conn']\n",
    "connection_summary = df[connection_columns].describe()\n",
    "print(\"\\nConnection Summary:\")\n",
    "print(connection_summary)"
   ]
  },
  {
   "cell_type": "code",
   "execution_count": 67,
   "id": "79fbcf79",
   "metadata": {},
   "outputs": [
    {
     "name": "stdout",
     "output_type": "stream",
     "text": [
      "\n",
      "Bytes Summary:\n",
      "count       7.000000\n",
      "mean      599.571429\n",
      "std       799.142010\n",
      "min       217.000000\n",
      "25%       314.000000\n",
      "50%       314.000000\n",
      "75%       314.000000\n",
      "max      2410.000000\n",
      "Name: bytes_read, dtype: float64\n"
     ]
    }
   ],
   "source": [
    "# Bytes Analysis\n",
    "bytes_summary = df['bytes_read'].describe()\n",
    "print(\"\\nBytes Summary:\")\n",
    "print(bytes_summary)"
   ]
  },
  {
   "cell_type": "code",
   "execution_count": 68,
   "id": "850a86ec",
   "metadata": {},
   "outputs": [
    {
     "name": "stdout",
     "output_type": "stream",
     "text": [
      "\n",
      "Yearly Traffic:\n",
      "year\n",
      "2023    4197\n",
      "Name: bytes_read, dtype: int64\n"
     ]
    }
   ],
   "source": [
    "# Time Series Analysis\n",
    "df.set_index('timestamp', inplace=True)\n",
    "df['year'] = df.index.year\n",
    "yearly_traffic = df.groupby('year').sum()['bytes_read']\n",
    "print(\"\\nYearly Traffic:\")\n",
    "print(yearly_traffic)"
   ]
  },
  {
   "cell_type": "code",
   "execution_count": 69,
   "id": "59812b5d",
   "metadata": {},
   "outputs": [
    {
     "data": {
      "image/png": "[encoded data removed]",
      "text/plain": [
       "<Figure size 1200x600 with 1 Axes>"
      ]
     },
     "metadata": {},
     "output_type": "display_data"
    }
   ],
   "source": [
    "import matplotlib.pyplot as plt\n",
    "# Plotting\n",
    "plt.figure(figsize=(12, 6))\n",
    "yearly_traffic.plot(kind='bar', color='blue')\n",
    "plt.title('Yearly Traffic')\n",
    "plt.xlabel('Year')\n",
    "plt.ylabel('Bytes Read')\n",
    "plt.show()"
   ]
  },
  {
   "cell_type": "code",
   "execution_count": null,
   "id": "df3fbc32",
   "metadata": {},
   "outputs": [],
   "source": []
  },
  {
   "cell_type": "code",
   "execution_count": null,
   "id": "6cb3f211",
   "metadata": {},
   "outputs": [],
   "source": []
  }
 ],
 "metadata": {
  "kernelspec": {
   "display_name": "Python 3 (ipykernel)",
   "language": "python",
   "name": "python3"
  },
  "language_info": {
   "codemirror_mode": {
    "name": "ipython",
    "version": 3
   },
   "file_extension": ".py",
   "mimetype": "text/x-python",
   "name": "python",
   "nbconvert_exporter": "python",
   "pygments_lexer": "ipython3",
   "version": "3.8.0"
  }
 },
 "nbformat": 4,
 "nbformat_minor": 5
}
